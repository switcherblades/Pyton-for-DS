{
 "cells": [
  {
   "cell_type": "code",
   "execution_count": 1,
   "metadata": {},
   "outputs": [],
   "source": [
    "import pandas as pd\n",
    "import requests as req\n",
    "from bs4 import BeautifulSoup\n",
    "from datetime import datetime\n"
   ]
  },
  {
   "cell_type": "code",
   "execution_count": 2,
   "metadata": {},
   "outputs": [],
   "source": [
    "index = 1"
   ]
  },
  {
   "cell_type": "code",
   "execution_count": 3,
   "metadata": {},
   "outputs": [],
   "source": [
    "url='https://www.star.nesdis.noaa.gov/smcd/emb/vci/VH/get_TS_admin.php?country=UKR&provinceID={}&year1=1981&year2=2020&type=VHI_Parea'.format(index)"
   ]
  },
  {
   "cell_type": "code",
   "execution_count": 4,
   "metadata": {},
   "outputs": [],
   "source": [
    "filename = 'vhi_id{index}_{_datetime}.csv'.format(index=index, \n",
    "                                                 _datetime=datetime.strftime(datetime.now(),'%Y_%m_%d_%H_%M_%S'))\n",
    "values = ['value{}'.format(i+1) for i in range(21)]\n",
    "header = ['year', 'week']\n",
    "Header = \",\".join(header + values) + '\\n'\n",
    "\n",
    "def parse(url, filename):\n",
    "    resp = req.get(url)\n",
    "    soup = BeautifulSoup(resp.text, 'lxml')\n",
    "    page_text = soup.find(\"pre\").text\n",
    "    \n",
    "    with open(filename,'w') as out:\n",
    "        out.write(Header + page_text)\n",
    "        \n",
    "    return pd.read_csv(filename,index_col=False,header=0)"
   ]
  },
  {
   "cell_type": "code",
   "execution_count": 8,
   "metadata": {},
   "outputs": [
    {
     "name": "stdout",
     "output_type": "stream",
     "text": [
      "vhi_id1_2020_09_19_21_07_50.csv\n"
     ]
    }
   ],
   "source": []
  },
  {
   "cell_type": "code",
   "execution_count": 6,
   "metadata": {},
   "outputs": [],
   "source": [
    "a = parse(url, filename)\n"
   ]
  },
  {
   "cell_type": "code",
   "execution_count": null,
   "metadata": {},
   "outputs": [],
   "source": []
  },
  {
   "cell_type": "code",
   "execution_count": null,
   "metadata": {},
   "outputs": [],
   "source": [
    "resp = req.get(url)\n",
    "\n",
    "soup = BeautifulSoup(resp.text, 'lxml')"
   ]
  },
  {
   "cell_type": "code",
   "execution_count": null,
   "metadata": {},
   "outputs": [],
   "source": [
    "page_text = soup.find(\"pre\").text"
   ]
  },
  {
   "cell_type": "code",
   "execution_count": null,
   "metadata": {},
   "outputs": [],
   "source": [
    "filename = 'vhi_id{index}_{_datetime}.csv'.format(index=index, \n",
    "                                                 _datetime=datetime.strftime(datetime.now(),'%Y_%m_%d_%H_%M_%S'))\n",
    "values = ['value{}'.format(i+1) for i in range(21)]\n",
    "header = ['year', 'week']\n",
    "Header = \",\".join(header + values) + '\\n'\n",
    "\n",
    "with open(filename,'w') as out:\n",
    "    out.write(Header + page_text)\n"
   ]
  },
  {
   "cell_type": "code",
   "execution_count": null,
   "metadata": {},
   "outputs": [],
   "source": [
    "data"
   ]
  },
  {
   "cell_type": "code",
   "execution_count": null,
   "metadata": {},
   "outputs": [],
   "source": [
    "def csv_to_data_frame(path_to_csv_file):\n",
    "    return pd.read_csv(path_to_csv_file,index_col=False,header=0)"
   ]
  },
  {
   "cell_type": "code",
   "execution_count": null,
   "metadata": {},
   "outputs": [],
   "source": [
    "z = csv_to_data_frame(filename)\n"
   ]
  },
  {
   "cell_type": "code",
   "execution_count": null,
   "metadata": {},
   "outputs": [],
   "source": []
  }
 ],
 "metadata": {
  "kernelspec": {
   "display_name": "Python 3",
   "language": "python",
   "name": "python3"
  },
  "language_info": {
   "codemirror_mode": {
    "name": "ipython",
    "version": 3
   },
   "file_extension": ".py",
   "mimetype": "text/x-python",
   "name": "python",
   "nbconvert_exporter": "python",
   "pygments_lexer": "ipython3",
   "version": "3.8.3"
  }
 },
 "nbformat": 4,
 "nbformat_minor": 4
}
